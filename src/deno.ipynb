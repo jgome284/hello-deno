{
 "cells": [
  {
   "cell_type": "markdown",
   "metadata": {},
   "source": [
    "# Time for a Deno demo! 🦕\n",
    "Lo and behold, deno kernal is working *(ish)* - it's still unstable - but we can say bonjour! 👋"
   ]
  },
  {
   "cell_type": "code",
   "execution_count": 32,
   "metadata": {},
   "outputs": [
    {
     "name": "stdout",
     "output_type": "stream",
     "text": [
      "Bonjour World!\n"
     ]
    }
   ],
   "source": [
    "console.log('Bonjour World!')"
   ]
  },
  {
   "cell_type": "markdown",
   "metadata": {},
   "source": [
    "# Primitive Data Types\n",
    "Data types are the classifications we give to the different kinds of data that we use in programming. In JavaScript, there are eight fundamental data types:\n",
    "\n",
    "- **Number:** Any number, including numbers with decimals: 4, 8, 1516, 23.42.\n",
    "- **BigInt:** Any number, greater than 253-1 or less than -(253-1), with n appended to the number: 1234567890123456n.\n",
    "- **String:** Any grouping of characters on your keyboard (letters, numbers, spaces, symbols, etc.) surrounded by single quotes: ' ... ' or double quotes \" ... \", though we prefer single quotes. Some people like to think of string as a fancy word for text.\n",
    "- **Boolean:** This data type only has two possible values— either true or false (without quotes). It’s helpful to think of booleans as on and off switches or as the answers to a “yes” or “no” question.\n",
    "- **Null:** This data type represents the intentional absence of a value, and is represented by the keyword null (without quotes).\n",
    "- **Undefined:** This data type is denoted by the keyword undefined (without quotes). It also represents the absence of a value though it has a different use than null. undefined means that a given value does not exist.\n",
    "- **Symbol:** A newer feature to the language, symbols are unique identifiers, useful in more complex coding. No need to worry about these for now.\n",
    "- **Object:** Collections of related data."
   ]
  },
  {
   "cell_type": "code",
   "execution_count": 33,
   "metadata": {},
   "outputs": [
    {
     "name": "stdout",
     "output_type": "stream",
     "text": [
      "JavaScript\n",
      "2011\n",
      "Woohoo! I love to code! #codecademy\n",
      "20.49\n",
      "30.5\n",
      "55\n",
      "0.2708333333333333\n",
      "27.08\n",
      "Hello World\n"
     ]
    }
   ],
   "source": [
    "// logging data\n",
    "console.log('JavaScript')\n",
    "console.log(2011)\n",
    "console.log('Woohoo! I love to code! #codecademy')\n",
    "console.log(20.49)\n",
    "\n",
    "// Basic arithmetic\n",
    "console.log(3.5 + 27)\n",
    "console.log(2024-1969)\n",
    "console.log(65/240)\n",
    "console.log(0.2708*100)\n",
    "\n",
    "// string concatenation\n",
    "console.log('Hello' + ' ' + 'World')"
   ]
  },
  {
   "cell_type": "markdown",
   "metadata": {},
   "source": [
    "# Properties"
   ]
  },
  {
   "cell_type": "code",
   "execution_count": 34,
   "metadata": {},
   "outputs": [
    {
     "name": "stdout",
     "output_type": "stream",
     "text": [
      "30\n"
     ]
    }
   ],
   "source": [
    "// Access string length property\n",
    "console.log('Teaching the world how to code'.length)"
   ]
  },
  {
   "cell_type": "markdown",
   "metadata": {},
   "source": [
    "# Methods"
   ]
  },
  {
   "cell_type": "code",
   "execution_count": 35,
   "metadata": {},
   "outputs": [
    {
     "name": "stdout",
     "output_type": "stream",
     "text": [
      "CODECADEMY\n",
      "Remove whitespace\n"
     ]
    }
   ],
   "source": [
    "// Use .toUpperCase() to log 'Codecademy' in all uppercase letters\n",
    "console.log('Codecademy'.toUpperCase());\n",
    "\n",
    "// Use a string method to log the following string without whitespace at the beginning and end of it.\n",
    "console.log('    Remove whitespace   '.trim());"
   ]
  },
  {
   "cell_type": "markdown",
   "metadata": {},
   "source": [
    "# Built-in Objects"
   ]
  },
  {
   "cell_type": "code",
   "execution_count": 36,
   "metadata": {},
   "outputs": [
    {
     "name": "stdout",
     "output_type": "stream",
     "text": [
      "33\n",
      "44\n",
      "true\n"
     ]
    }
   ],
   "source": [
    "console.log(Math.floor(Math.random() * 100))\n",
    "console.log(Math.ceil(43.8))\n",
    "console.log(Number.isInteger(2017))"
   ]
  },
  {
   "cell_type": "markdown",
   "metadata": {},
   "source": [
    "# Variables"
   ]
  },
  {
   "cell_type": "code",
   "execution_count": 37,
   "metadata": {},
   "outputs": [
    {
     "name": "stdout",
     "output_type": "stream",
     "text": [
      "pizza\n",
      "8\n",
      "false\n"
     ]
    }
   ],
   "source": [
    "var favoriteFood = 'pizza'\n",
    "var numOfSlices = 8\n",
    "\n",
    "console.log(favoriteFood)\n",
    "console.log(numOfSlices)\n",
    "\n",
    "let changeMe = true;\n",
    "changeMe = false;\n",
    "console.log(changeMe)"
   ]
  },
  {
   "cell_type": "markdown",
   "metadata": {},
   "source": [
    "# Mathematical Assignment Operators"
   ]
  },
  {
   "cell_type": "code",
   "execution_count": 38,
   "metadata": {},
   "outputs": [
    {
     "name": "stdout",
     "output_type": "stream",
     "text": [
      "The value of levelUp: 15\n",
      "The value of powerLevel: 8901\n",
      "The value of multiplyMe: 352\n",
      "The value of quarterMe: 288\n"
     ]
    }
   ],
   "source": [
    "// Use the mathematical assignments in the space below:\n",
    "let levelUp = 10;\n",
    "let powerLevel = 9001;\n",
    "let multiplyMe = 32;\n",
    "let quarterMe = 1152;\n",
    "\n",
    "levelUp += 5\n",
    "powerLevel -= 100\n",
    "multiplyMe *= 11\n",
    "quarterMe /= 4\n",
    "\n",
    "// These console.log() statements below will help you check the values of the variables.\n",
    "// You do not need to edit these statements. \n",
    "console.log('The value of levelUp:', levelUp); \n",
    "console.log('The value of powerLevel:', powerLevel); \n",
    "console.log('The value of multiplyMe:', multiplyMe); \n",
    "console.log('The value of quarterMe:', quarterMe);"
   ]
  },
  {
   "cell_type": "markdown",
   "metadata": {},
   "source": [
    "# Increment & Decrement Operators"
   ]
  },
  {
   "cell_type": "code",
   "execution_count": 39,
   "metadata": {},
   "outputs": [
    {
     "data": {
      "text/plain": [
       "\u001b[33m50\u001b[39m"
      ]
     },
     "execution_count": 39,
     "metadata": {},
     "output_type": "execute_result"
    }
   ],
   "source": [
    "let gainedDollar = 3;\n",
    "let lostDollar = 50;\n",
    "\n",
    "gainedDollar++;\n",
    "lostDollar--;"
   ]
  },
  {
   "cell_type": "markdown",
   "metadata": {},
   "source": [
    "# String Concatenation & Interpolation"
   ]
  },
  {
   "cell_type": "code",
   "execution_count": 40,
   "metadata": {},
   "outputs": [
    {
     "name": "stdout",
     "output_type": "stream",
     "text": [
      "My favorite animal: piggy\n",
      "My name is Jose. My favorite city is Miami.\n"
     ]
    }
   ],
   "source": [
    "const favoriteAnimal = 'piggy';\n",
    "console.log('My favorite animal: ' + favoriteAnimal)\n",
    "const myName = 'Jose';\n",
    "const myCity = 'Miami';\n",
    "console.log(`My name is ${myName}. My favorite city is ${myCity}.`)"
   ]
  },
  {
   "cell_type": "markdown",
   "metadata": {},
   "source": [
    "# Typeof Operator & Typing"
   ]
  },
  {
   "cell_type": "code",
   "execution_count": 41,
   "metadata": {},
   "outputs": [
    {
     "name": "stdout",
     "output_type": "stream",
     "text": [
      "string\n",
      "number\n",
      "string\n",
      "number\n"
     ]
    }
   ],
   "source": [
    "let variable: string | number; // variable can be either string or number\n",
    "variable = \"hello\"; // variable is of type string\n",
    "console.log(typeof variable);\n",
    "variable = 1; // variable is of type number\n",
    "console.log(typeof variable);\n",
    "\n",
    "let newVariable: any = 'Playing around with typeof.';\n",
    "console.log(typeof newVariable)\n",
    "\n",
    "newVariable = 1\n",
    "console.log(typeof newVariable)"
   ]
  },
  {
   "cell_type": "markdown",
   "metadata": {},
   "source": [
    "# Conditional Statements"
   ]
  },
  {
   "cell_type": "markdown",
   "metadata": {},
   "source": [
    "## If Else"
   ]
  },
  {
   "cell_type": "code",
   "execution_count": 42,
   "metadata": {},
   "outputs": [
    {
     "name": "stdout",
     "output_type": "stream",
     "text": [
      "Time to buy!\n",
      "We can eat later!\n",
      "not bed time yet\n"
     ]
    }
   ],
   "source": [
    "let sale = true;\n",
    "\n",
    "if (sale) {\n",
    "  console.log('Time to buy!');\n",
    "} else {\n",
    "    console.log('Time to wait for a sale.');\n",
    "    \n",
    "  }\n",
    "  \n",
    "let hungerLevel = 7\n",
    "\n",
    "if (hungerLevel > 7){\n",
    "  console.log('Time to eat!');\n",
    "} else {\n",
    "  console.log('We can eat later!');\n",
    "}\n",
    "\n",
    "let mood = 'sleepy';\n",
    "let tirednessLevel = 6;\n",
    "\n",
    "if (mood === 'sleepy' && tirednessLevel > 8){\n",
    "  console.log('time to sleep')\n",
    "} else {\n",
    "  console.log('not bed time yet')\n",
    "}"
   ]
  },
  {
   "cell_type": "markdown",
   "metadata": {},
   "source": [
    "## Truthy Values"
   ]
  },
  {
   "cell_type": "code",
   "execution_count": 43,
   "metadata": {},
   "outputs": [
    {
     "name": "stdout",
     "output_type": "stream",
     "text": [
      "Great! You've started your work!\n",
      "This string is definitely empty.\n"
     ]
    }
   ],
   "source": [
    "let wordCount = 1;\n",
    "\n",
    "if (wordCount) {\n",
    "  console.log(\"Great! You've started your work!\");\n",
    "} else {\n",
    "  console.log('Better get to work!');\n",
    "}\n",
    "\n",
    "\n",
    "let favoritePhrase = '';\n",
    "\n",
    "if (favoritePhrase) {\n",
    "  console.log(\"This string doesn't seem to be empty.\");\n",
    "} else {\n",
    "  console.log('This string is definitely empty.');\n",
    "}"
   ]
  },
  {
   "cell_type": "markdown",
   "metadata": {},
   "source": [
    "## Ternary Operator"
   ]
  },
  {
   "cell_type": "code",
   "execution_count": 44,
   "metadata": {},
   "outputs": [
    {
     "name": "stdout",
     "output_type": "stream",
     "text": [
      "You will not need a key to open the door.\n",
      "Correct!\n",
      "I love that!\n"
     ]
    }
   ],
   "source": [
    "\n",
    "let isLocked = false;\n",
    "\n",
    "isLocked ? console.log('You will need a key to open the door.') : console.log('You will not need a key to open the door.');\n",
    "\n",
    "let isCorrect = true;\n",
    "\n",
    "isCorrect ? console.log('Correct!') : console.log('Incorrect!');\n",
    "\n",
    "favoritePhrase = 'Love That!';\n",
    "\n",
    "favoritePhrase === 'Love That!' ? console.log('I love that!') : console.log(\"I don't love that!\");"
   ]
  },
  {
   "cell_type": "markdown",
   "metadata": {},
   "source": [
    "## Short Circuit Evaluation"
   ]
  },
  {
   "cell_type": "code",
   "execution_count": 45,
   "metadata": {},
   "outputs": [
    {
     "name": "stdout",
     "output_type": "stream",
     "text": [
      "The marker is mightier than the sword.\n"
     ]
    }
   ],
   "source": [
    "let tool = 'marker';\n",
    "\n",
    "// Use short circuit evaluation to assign  writingUtensil variable below:\n",
    "let writingUtensil = tool || 'pen'\n",
    "\n",
    "console.log(`The ${writingUtensil} is mightier than the sword.`);"
   ]
  },
  {
   "cell_type": "markdown",
   "metadata": {},
   "source": [
    "## Else If Statements"
   ]
  },
  {
   "cell_type": "code",
   "execution_count": 46,
   "metadata": {},
   "outputs": [
    {
     "name": "stdout",
     "output_type": "stream",
     "text": [
      "It's sunny and warm because it's summer!\n"
     ]
    }
   ],
   "source": [
    "\n",
    "let season = 'summer';\n",
    "\n",
    "if (season === 'spring') {\n",
    "  console.log('It\\'s spring! The trees are budding!');\n",
    "} else if (season === 'winter') {\n",
    "  console.log('It\\'s winter! Everything is covered in snow.')\n",
    "} else if (season === 'fall') {\n",
    "  console.log('It\\'s fall! Leaves are falling!')\n",
    "} else if (season === 'summer') {\n",
    "  console.log('It\\'s sunny and warm because it\\'s summer!')\n",
    "} else {\n",
    "  console.log('Invalid season.');\n",
    "}"
   ]
  },
  {
   "cell_type": "markdown",
   "metadata": {},
   "source": [
    "## Switch Statements"
   ]
  },
  {
   "cell_type": "code",
   "execution_count": 47,
   "metadata": {},
   "outputs": [
    {
     "name": "stdout",
     "output_type": "stream",
     "text": [
      "You get the gold medal!\n"
     ]
    }
   ],
   "source": [
    "\n",
    "let athleteFinalPosition = 'first place';\n",
    "\n",
    "switch (athleteFinalPosition) {\n",
    "  case 'first place':\n",
    "  console.log('You get the gold medal!');\n",
    "  break\n",
    "  case 'second place':\n",
    "  console.log('You get the silver medal!');\n",
    "  break\n",
    "  case 'third place':\n",
    "  console.log('You get the bronze medal!');\n",
    "  break\n",
    "  default:\n",
    "  console.log('No medal awarded.');\n",
    "  break\n",
    "}"
   ]
  },
  {
   "cell_type": "markdown",
   "metadata": {},
   "source": [
    "# Functions"
   ]
  },
  {
   "cell_type": "markdown",
   "metadata": {},
   "source": [
    "## Create Functions"
   ]
  },
  {
   "cell_type": "code",
   "execution_count": 48,
   "metadata": {},
   "outputs": [],
   "source": [
    "function getReminder() {\n",
    "    console.log('Water the plants.')\n",
    "  }\n",
    "  \n",
    "  function greetInSpanish() {\n",
    "    console.log('Buenas tardes.')\n",
    "  }"
   ]
  },
  {
   "cell_type": "markdown",
   "metadata": {},
   "source": [
    "## Call Functions"
   ]
  },
  {
   "cell_type": "code",
   "execution_count": 49,
   "metadata": {},
   "outputs": [
    {
     "name": "stdout",
     "output_type": "stream",
     "text": [
      "Thank you for your purchase! We appreciate your business.\n",
      "Thank you for your purchase! We appreciate your business.\n",
      "Thank you for your purchase! We appreciate your business.\n",
      "Thank you for your purchase Cole! We appreciate your business.\n"
     ]
    }
   ],
   "source": [
    "// calling functions\n",
    "function sayThanks() {\n",
    "    console.log('Thank you for your purchase! We appreciate your business.')\n",
    "  }\n",
    "  \n",
    "  sayThanks();\n",
    "  sayThanks();\n",
    "  sayThanks();\n",
    "\n",
    "  // calling functions with variables\n",
    "  function sayThanksName(name) {\n",
    "    console.log('Thank you for your purchase ' + name + '! We appreciate your business.');\n",
    "  }\n",
    "  \n",
    "  sayThanksName('Cole')"
   ]
  },
  {
   "cell_type": "markdown",
   "metadata": {},
   "source": [
    "## Assigning Default Values"
   ]
  },
  {
   "cell_type": "code",
   "execution_count": 50,
   "metadata": {},
   "outputs": [],
   "source": [
    "function makeShoppingList(item1 = 'milk', item2 = 'bread', item3 = 'eggs'){\n",
    "    console.log(`Remember to buy ${item1}`);\n",
    "    console.log(`Remember to buy ${item2}`);\n",
    "    console.log(`Remember to buy ${item3}`);\n",
    "  }"
   ]
  },
  {
   "cell_type": "markdown",
   "metadata": {},
   "source": [
    "## Return Output"
   ]
  },
  {
   "cell_type": "code",
   "execution_count": 51,
   "metadata": {},
   "outputs": [
    {
     "name": "stdout",
     "output_type": "stream",
     "text": [
      "20\n"
     ]
    }
   ],
   "source": [
    "  function monitorCount(rows, columns) {\n",
    "    return rows * columns;\n",
    "  }\n",
    "  \n",
    "  const numOfMonitors = monitorCount(5, 4);\n",
    "  console.log(numOfMonitors)"
   ]
  },
  {
   "cell_type": "markdown",
   "metadata": {},
   "source": [
    "## Helper Functions"
   ]
  },
  {
   "cell_type": "code",
   "execution_count": 52,
   "metadata": {},
   "outputs": [
    {
     "name": "stdout",
     "output_type": "stream",
     "text": [
      "4000\n"
     ]
    }
   ],
   "source": [
    "function monitorCount(rows, columns) {\n",
    "    return rows * columns;\n",
    "  }\n",
    "  \n",
    "  function costOfMonitors (rows, columns) {\n",
    "    return monitorCount(rows, columns) * 200;\n",
    "  }\n",
    "  \n",
    "  const totalCost = costOfMonitors(5,4);\n",
    "  console.log(totalCost)"
   ]
  },
  {
   "cell_type": "markdown",
   "metadata": {},
   "source": [
    "## Function Expressions"
   ]
  },
  {
   "cell_type": "code",
   "execution_count": 53,
   "metadata": {},
   "outputs": [
    {
     "name": "stdout",
     "output_type": "stream",
     "text": [
      "false\n"
     ]
    }
   ],
   "source": [
    "const plantNeedsWater = function(day) {\n",
    "    if (day === 'Wednesday') {\n",
    "      return true;\n",
    "    } else {\n",
    "      return false;\n",
    "    }\n",
    "  }\n",
    "  \n",
    "  console.log(plantNeedsWater('Tuesday'))"
   ]
  },
  {
   "cell_type": "markdown",
   "metadata": {},
   "source": [
    "## Fat Arrow Notation"
   ]
  },
  {
   "cell_type": "code",
   "execution_count": 54,
   "metadata": {},
   "outputs": [],
   "source": [
    "  // refactoring funtion to fat arrow notation\n",
    "  const plantNeedsFertilizer = (day) => {\n",
    "    if (day === 'Wednesday') {\n",
    "      return true;\n",
    "    } else {\n",
    "      return false;\n",
    "    }\n",
    "  };\n",
    "\n",
    "  // single line block concise function notation\n",
    "\n",
    "  const plantNeedsTrim = day => day === 'Wednesday' ? true : false;\n",
    "  "
   ]
  },
  {
   "cell_type": "markdown",
   "metadata": {},
   "source": [
    "## Accessing Global Variables"
   ]
  },
  {
   "cell_type": "code",
   "execution_count": 55,
   "metadata": {},
   "outputs": [
    {
     "name": "stdout",
     "output_type": "stream",
     "text": [
      "Night Sky: The Moon, North Star, and The Milky Way\n"
     ]
    }
   ],
   "source": [
    "// accessing global variables in function\n",
    "\n",
    "const satellite = 'The Moon';\n",
    "const galaxy = 'The Milky Way';\n",
    "const stars = 'North Star';\n",
    "\n",
    "function callMyNightSky() {\n",
    "return 'Night Sky: ' + satellite + ', ' + stars + ', and ' + galaxy;\n",
    "};\n",
    "\n",
    "console.log(callMyNightSky());"
   ]
  },
  {
   "cell_type": "markdown",
   "metadata": {},
   "source": [
    "## Advanced Functions"
   ]
  },
  {
   "cell_type": "code",
   "execution_count": 56,
   "metadata": {},
   "outputs": [
    {
     "name": "stdout",
     "output_type": "stream",
     "text": [
      "checkThatTwoPlusTwoEqualsFourAMillionTimes\n",
      "12\n"
     ]
    }
   ],
   "source": [
    "// functions as objects\n",
    "const checkThatTwoPlusTwoEqualsFourAMillionTimes = () => {\n",
    "    for(let i = 1; i <= 1000000; i++) {\n",
    "      if ( (2 + 2) != 4) {\n",
    "        console.log('Something has gone very wrong :( ');\n",
    "      }\n",
    "    }\n",
    "  };\n",
    "  \n",
    "  // reassign function to another variable name\n",
    "  const isTwoPlusTwo = checkThatTwoPlusTwoEqualsFourAMillionTimes;\n",
    "  \n",
    "  isTwoPlusTwo();\n",
    "  console.log(isTwoPlusTwo.name);\n",
    "  \n",
    "\n",
    "// higher order functions\n",
    "const addTwo = num => {\n",
    "    return num + 2;\n",
    "  }\n",
    "  \n",
    "  const checkConsistentOutput = (func, val) => {\n",
    "    let checkA = val + 2;\n",
    "    let checkB = func(val);\n",
    "    return checkA === checkB ? func(val) : 'inconsistent results';  \n",
    "  }\n",
    "  \n",
    "  console.log(checkConsistentOutput(addTwo, 10));\n"
   ]
  },
  {
   "cell_type": "markdown",
   "metadata": {},
   "source": [
    "# Arrays"
   ]
  },
  {
   "cell_type": "code",
   "execution_count": 57,
   "metadata": {},
   "outputs": [
    {
     "name": "stdout",
     "output_type": "stream",
     "text": [
      "Fortune favors the brave.\n",
      "Where there is love there is life.\n",
      "undefined\n",
      "[ \"Mayo\", \"Mustard\", \"Soy Sauce\", \"Sriracha\" ]\n",
      "[ \"Mayo\" ]\n",
      "[ \"Fork\", \"Knife\", \"Chopsticks\", \"Spoon\" ]\n",
      "[\n",
      "  \"wash dishes\",\n",
      "  \"do laundry\",\n",
      "  \"take out trash\",\n",
      "  \"research houses\",\n",
      "  \"pray\"\n",
      "]\n",
      "[\n",
      "  \"wash dishes\",\n",
      "  \"do laundry\",\n",
      "  \"take out trash\",\n",
      "  \"cook dinner\",\n",
      "  \"mop floor\"\n",
      "]\n",
      "[\n",
      "  \"bananas\",\n",
      "  \"coffee beans\",\n",
      "  \"brown rice\",\n",
      "  \"pasta\",\n",
      "  \"coconut oil\",\n",
      "  \"plantains\"\n",
      "]\n",
      "[\n",
      "  \"popcorn\",\n",
      "  \"bananas\",\n",
      "  \"coffee beans\",\n",
      "  \"brown rice\",\n",
      "  \"pasta\",\n",
      "  \"coconut oil\",\n",
      "  \"plantains\"\n",
      "]\n",
      "[ \"bananas\", \"coffee beans\", \"brown rice\" ]\n",
      "[\n",
      "  \"popcorn\",\n",
      "  \"bananas\",\n",
      "  \"coffee beans\",\n",
      "  \"brown rice\",\n",
      "  \"pasta\",\n",
      "  \"coconut oil\",\n",
      "  \"plantains\"\n",
      "]\n",
      "4\n",
      "[ \"arrays\", \"can\", \"be\", \"MUTATED\" ]\n",
      "[ \"arrays\", \"can\", \"be\" ]\n"
     ]
    }
   ],
   "source": [
    "// working with arrays\n",
    "const famousSayings = ['Fortune favors the brave.', 'A joke is a very serious thing.', 'Where there is love there is life.'];\n",
    "\n",
    "var listItem = famousSayings[0];\n",
    "console.log(listItem);\n",
    "\n",
    "console.log(famousSayings[2]);\n",
    "console.log(famousSayings[3]);\n",
    "\n",
    "// updating array elements\n",
    "let groceryList = ['bread', 'tomatoes', 'milk'];\n",
    "\n",
    "groceryList[1] = 'avocados';\n",
    "\n",
    "// arrays with let and const\n",
    "let condiments = ['Ketchup', 'Mustard', 'Soy Sauce', 'Sriracha'];\n",
    "\n",
    "const utensils = ['Fork', 'Knife', 'Chopsticks', 'Spork'];\n",
    "\n",
    "condiments[0] = 'Mayo';\n",
    "console.log(condiments);\n",
    "\n",
    "condiments = ['Mayo'];\n",
    "console.log(condiments);\n",
    "\n",
    "utensils[3] = 'Spoon';\n",
    "console.log(utensils);\n",
    "\n",
    "// add elements to end of list\n",
    "const chores = ['wash dishes', 'do laundry', 'take out trash'];\n",
    "\n",
    "chores.push('research houses', 'pray');\n",
    "console.log(chores);\n",
    "\n",
    "// remove elements from end of list\n",
    "const chores_other = ['wash dishes', 'do laundry', 'take out trash', 'cook dinner', 'mop floor'];\n",
    "\n",
    "chores.pop();\n",
    "console.log(chores_other);\n",
    "\n",
    "// additional array methods\n",
    "groceryList = ['orange juice', 'bananas', 'coffee beans', 'brown rice', 'pasta', 'coconut oil', 'plantains'];\n",
    "\n",
    "groceryList.shift()\n",
    "console.log(groceryList);\n",
    "\n",
    "groceryList.unshift('popcorn')\n",
    "console.log(groceryList);\n",
    "\n",
    "//slice is a non-mutating method, the original list remains unchanged\n",
    "console.log(groceryList.slice(1, 4))\n",
    "console.log(groceryList);\n",
    "\n",
    "const pastaIndex = groceryList.indexOf('pasta');\n",
    "console.log(pastaIndex);\n",
    "\n",
    "// mutating arrays in functions via pass by reference\n",
    "const concept = ['arrays', 'can', 'be', 'mutated'];\n",
    "\n",
    "function changeArr(arr){\n",
    "  arr[3] = 'MUTATED';\n",
    "}\n",
    "\n",
    "changeArr(concept);\n",
    "console.log(concept);\n",
    "\n",
    "const removeElement = newArr => newArr.pop();\n",
    "removeElement(concept);\n",
    "console.log(concept);\n",
    "\n",
    "// nested arrays\n",
    "\n",
    "const numberClusters = [[1,2], [3,4], [5,6]];\n",
    "\n",
    "const target = numberClusters[2][1];"
   ]
  },
  {
   "cell_type": "markdown",
   "metadata": {},
   "source": [
    "# For Loops"
   ]
  },
  {
   "cell_type": "code",
   "execution_count": 58,
   "metadata": {},
   "outputs": [
    {
     "name": "stdout",
     "output_type": "stream",
     "text": [
      "5\n",
      "6\n",
      "7\n",
      "8\n",
      "9\n",
      "10\n",
      "3\n",
      "2\n",
      "1\n",
      "0\n",
      "I would love to visit Bali\n",
      "I would love to visit Paris\n",
      "I would love to visit Tulum\n",
      "[ \"cary\" ]\n",
      "[ \"bobbett\" ]\n"
     ]
    }
   ],
   "source": [
    "// Writing for loops\n",
    "for (let counter = 5; counter < 11; counter++) {\n",
    "    console.log(counter);\n",
    "  }\n",
    "  \n",
    "// loop backwards from 3 to 0\n",
    "for (let counter = 3; counter >= 0; counter--){\n",
    "    console.log(counter);\n",
    "  }\n",
    "\n",
    "// looping through arrays\n",
    "const vacationSpots = ['Bali', 'Paris', 'Tulum'];\n",
    "\n",
    "for (let i = 0; i < vacationSpots.length; i++) {\n",
    "  console.log(`I would love to visit ${vacationSpots[i]}`);\n",
    "}\n",
    "  \n",
    "\n",
    "// nested for loops\n",
    "const bobsFollowers = ['cary', 'tim', 'bobbett', 'tina'];\n",
    "const tinasFollowers = ['bobbett', 'suzy', 'cary'];\n",
    "\n",
    "let mutualFollowers = [];\n",
    "\n",
    "for (let i = 0; i < bobsFollowers.length; i++) {\n",
    "  for (let j = 0; j < tinasFollowers.length; j++) {\n",
    "    if (bobsFollowers[i] === tinasFollowers[j]) {\n",
    "      mutualFollowers.push(bobsFollowers[i]);\n",
    "      console.log(mutualFollowers.slice(-1));\n",
    "    }\n",
    "  }\n",
    "}"
   ]
  },
  {
   "cell_type": "markdown",
   "metadata": {},
   "source": [
    "# While Statements"
   ]
  },
  {
   "cell_type": "code",
   "execution_count": 59,
   "metadata": {},
   "outputs": [
    {
     "name": "stdout",
     "output_type": "stream",
     "text": [
      "diamond\n",
      "diamond\n",
      "diamond\n",
      "club\n",
      "heart\n",
      "spade\n",
      "1\n",
      "Lil' Kim\n",
      "Jay-Z\n",
      "Notorious B.I.G.\n",
      "And if you don't know, now you know.\n"
     ]
    }
   ],
   "source": [
    "// while statements\n",
    "const cards = ['diamond', 'spade', 'heart', 'club'];\n",
    "\n",
    "let currentCard;\n",
    "while (currentCard !== 'spade') {\n",
    "  currentCard = cards[Math.floor(Math.random() * 4)];\n",
    "  console.log(currentCard);\n",
    "}\n",
    "\n",
    "// do while statements\n",
    "var cupsOfSugarNeeded = 0;\n",
    "\n",
    "let cupsAdded = 0;\n",
    "\n",
    "do {\n",
    "  cupsAdded++;\n",
    "  console.log(cupsAdded);\n",
    "} while ( cupsAdded < cupsOfSugarNeeded);\n",
    "\n",
    "// break out of looping condition\n",
    "const rapperArray = [\"Lil' Kim\", \"Jay-Z\", \"Notorious B.I.G.\", \"Tupac\"];\n",
    "\n",
    "for (let i = 0; i < rapperArray.length; i++) {\n",
    "  console.log(rapperArray[i]);\n",
    "  if (rapperArray[i] === 'Notorious B.I.G.') {\n",
    "    break;\n",
    "  }\n",
    "}\n",
    "\n",
    "console.log(\"And if you don't know, now you know.\")\n"
   ]
  },
  {
   "cell_type": "markdown",
   "metadata": {},
   "source": [
    "# Iterator Methods"
   ]
  },
  {
   "cell_type": "code",
   "execution_count": 60,
   "metadata": {},
   "outputs": [
    {
     "name": "stdout",
     "output_type": "stream",
     "text": [
      "I want to eat a mango\n",
      "I want to eat a papaya\n",
      "I want to eat a pineapple\n",
      "I want to eat a apple\n",
      "HelloWorld\n",
      "The value of accumulator:  10\n",
      "The value of currentValue:  1\n",
      "The value of accumulator:  11\n",
      "The value of currentValue:  3\n",
      "The value of accumulator:  14\n",
      "The value of currentValue:  5\n",
      "The value of accumulator:  19\n",
      "The value of currentValue:  7\n",
      "26\n",
      "true\n",
      "true\n",
      "Have you visited Orlando?\n",
      "Have you visited Dubai?\n",
      "Have you visited Edinburgh?\n",
      "Have you visited Chennai?\n",
      "Have you visited Accra?\n",
      "Have you visited Denver?\n",
      "Have you visited Eskisehir?\n",
      "Have you visited Medellin?\n",
      "Have you visited Yokohama?\n",
      "CODECADEMY\n"
     ]
    },
    {
     "data": {
      "text/plain": [
       "\u001b[33mfalse\u001b[39m"
      ]
     },
     "execution_count": 60,
     "metadata": {},
     "output_type": "execute_result"
    }
   ],
   "source": [
    "// Iterate over fruits below\n",
    "\n",
    "const fruits = ['mango', 'papaya', 'pineapple', 'apple'];\n",
    "\n",
    "fruits.forEach(fruit => {\n",
    "  console.log(`I want to eat a ${fruit}`)\n",
    "})\n",
    "\n",
    "const animals = ['Hen', 'elephant', 'llama', 'leopard', 'ostrich', 'Whale', 'octopus', 'rabbit', 'lion', 'dog'];\n",
    "\n",
    "// Create the secretMessage array below\n",
    "const secretMessage = animals.map(animal => {\n",
    "return animal[0];\n",
    "})\n",
    "\n",
    "console.log(secretMessage.join(''));\n",
    "\n",
    "const bigNumbers = [100, 200, 300, 400, 500];\n",
    "\n",
    "// Create the smallNumbers array below\n",
    "const smallNumbers = bigNumbers.map( number => {\n",
    "return number / 100;\n",
    "})\n",
    "\n",
    "const randomNumbers = [375, 200, 3.14, 7, 13, 852];\n",
    "\n",
    "// Call .filter() on randomNumbers below\n",
    "const smallNumbers_again = randomNumbers.filter(number => {\n",
    "return number < 250;\n",
    "})\n",
    "\n",
    "const favoriteWords = ['nostalgia', 'hyperbole', 'fervent', 'esoteric', 'serene'];\n",
    "\n",
    "\n",
    "// Call .filter() on favoriteWords below\n",
    "const longFavoriteWords = favoriteWords.filter( word => {\n",
    "return word.length > 7;\n",
    "})\n",
    "\n",
    "const more_animals = ['hippo', 'tiger', 'lion', 'seal', 'cheetah', 'monkey', 'salamander', 'elephant'];\n",
    "\n",
    "const foundAnimal = more_animals.findIndex(animal => {\n",
    "return animal === 'elephant';\n",
    "})\n",
    "\n",
    "const startsWithS = more_animals.findIndex(animal => {\n",
    "return animal[0] === 's';\n",
    "})\n",
    "\n",
    "const newNumbers = [1, 3, 5, 7];\n",
    "\n",
    "const newSum = newNumbers.reduce((accumulator, currentValue) => {\n",
    "console.log('The value of accumulator: ', accumulator);\n",
    "console.log('The value of currentValue: ', currentValue);\n",
    "return accumulator + currentValue;\n",
    "}, 10)\n",
    "\n",
    "console.log(newSum)\n",
    "\n",
    "const words = ['unique', 'uncanny', 'pique', 'oxymoron', 'guise'];\n",
    "\n",
    "// Determines whether the specified callback function returns true for any element of an array.\n",
    "console.log(words.some((word) => {\n",
    "return word.length < 6;\n",
    "}));\n",
    "\n",
    "// Returns the elements of an array that meet the condition specified in a callback function.\n",
    "const interestingWords = words.filter(word => {\n",
    "return word.length > 5;\n",
    "})\n",
    "\n",
    "// Determines whether all the members of an array satisfy the specified test.\n",
    "console.log(interestingWords.every((word) => {\n",
    "return word.length > 5;\n",
    "} ));\n",
    "\n",
    "const cities = ['Orlando', 'Dubai', 'Edinburgh', 'Chennai', 'Accra', 'Denver', 'Eskisehir', 'Medellin', 'Yokohama'];\n",
    "\n",
    "const nums = [1, 50, 75, 200, 350, 525, 1000];\n",
    "\n",
    "//  A method that will return undefined\n",
    "cities.forEach(city => console.log('Have you visited ' + city + '?'));\n",
    "\n",
    "// A method that will return a new array\n",
    "const longCities = cities.filter(city => city.length > 7);\n",
    "\n",
    "// A method that will return a single value\n",
    "const word = cities.reduce((acc, currVal) => {\n",
    "return acc + currVal[0]\n",
    "}, \"C\");\n",
    "\n",
    "console.log(word)\n",
    "\n",
    "// A method that will return a new array\n",
    "const smallerNums = nums.map(num => num - 5);\n",
    "\n",
    "// A method that will return a boolean value\n",
    "nums.every(num => num < 0);\n"
   ]
  },
  {
   "cell_type": "markdown",
   "metadata": {},
   "source": [
    "# Objects"
   ]
  },
  {
   "cell_type": "markdown",
   "metadata": {},
   "source": [
    "## Creating an Object"
   ]
  },
  {
   "cell_type": "code",
   "execution_count": 61,
   "metadata": {},
   "outputs": [],
   "source": [
    "// creating an object literal\n",
    "\n",
    "let fasterShip = {\n",
    "    color: 'silver',\n",
    "    'Fuel Type': 'Turbo Fuel'\n",
    "  }"
   ]
  },
  {
   "cell_type": "markdown",
   "metadata": {},
   "source": [
    "## Object Properties"
   ]
  },
  {
   "cell_type": "code",
   "execution_count": 63,
   "metadata": {},
   "outputs": [
    {
     "ename": "Expected a semicolon at repl.tsx:25:18\n\n    let spaceshipv2.numEngines = 4;\n                   ~",
     "evalue": " ",
     "output_type": "error",
     "traceback": []
    }
   ],
   "source": [
    "// access properties via dot notation\n",
    "\n",
    "let spaceshipv2 = {\n",
    "    homePlanet: 'Earth',\n",
    "    color: 'silver',\n",
    "    'Fuel Type': 'Turbo Fuel',\n",
    "    numCrew: 5,\n",
    "    'Active Mission' : true,\n",
    "    'Secret Mission' : 'Discover life outside of Earth.',\n",
    "    flightPath: ['Venus', 'Mars', 'Saturn']\n",
    "  };\n",
    "  \n",
    "  const crewCount = spaceshipv2.numCrew;\n",
    "  const planetArray = spaceshipv2.flightPath;\n",
    "\n",
    "  // access properties via bracket notation\n",
    " \n",
    "  let propName =  'Active Mission';\n",
    "  \n",
    "  const isActive = spaceshipv2['Active Mission'];\n",
    "  console.log(spaceship[propName])\n",
    "\n",
    "  \n",
    "  spaceshipv2.color = 'glorious gold';\n",
    "  let spaceshipv2.numEngines = 4;\n",
    "  delete spaceshipv2['Secret Mission'];"
   ]
  },
  {
   "cell_type": "markdown",
   "metadata": {},
   "source": [
    "## Object Methods"
   ]
  },
  {
   "cell_type": "code",
   "execution_count": null,
   "metadata": {},
   "outputs": [],
   "source": [
    "let retreatMessage = 'We no longer wish to conquer your planet. It is full of dogs, which we do not care for.';\n",
    "\n",
    "const alienShip = {\n",
    "  retreat () {\n",
    "    console.log(retreatMessage);\n",
    "  },\n",
    "\n",
    "  takeOff() {\n",
    "    console.log('Spim... Borp... Glix... Blastoff!');\n",
    "  }\n",
    "};\n",
    "\n",
    "alienShip.retreat()\n",
    "alienShip.takeOff()\n",
    "  \n",
    "spaceship = {\n",
    "    passengers: [{name: 'Space Dog'}], \n",
    "    telescope: {\n",
    "      yearBuilt: 2018,\n",
    "      model: \"91031-XLT\",\n",
    "      focalLength: 2032 \n",
    "    },\n",
    "    crew: {\n",
    "      captain: { \n",
    "        name: 'Sandra', \n",
    "        degree: 'Computer Engineering', \n",
    "        encourageTeam() { console.log('We got this!') },\n",
    "       'favorite foods': ['cookies', 'cakes', 'candy', 'spinach'] }\n",
    "    },\n",
    "    engine: {\n",
    "      model: \"Nimbus2000\"\n",
    "    },\n",
    "    nanoelectronics: {\n",
    "      computer: {\n",
    "        terabytes: 100,\n",
    "        monitors: \"HD\"\n",
    "      },\n",
    "      'back-up': {\n",
    "        battery: \"Lithium\",\n",
    "        terabytes: 50\n",
    "      }\n",
    "    }\n",
    "  }; \n",
    "  \n",
    "  let capFave = spaceship.crew.captain['favorite foods'][0];\n",
    "  \n",
    "  let firstPassenger = spaceship.passengers[0];\n",
    "\n",
    "  spaceship = {\n",
    "    'Fuel Type' : 'Turbo Fuel',\n",
    "    homePlanet : 'Earth'\n",
    "  };\n",
    "  \n",
    "  function greenEnergy(obj) {\n",
    "    obj['Fuel Type'] = 'avocado oil';\n",
    "  }\n",
    "  \n",
    "  const remotelyDisable = obj => {\n",
    "    obj.disabled = true;\n",
    "  }\n",
    "  \n",
    "  greenEnergy(spaceship);\n",
    "  remotelyDisable(spaceship);\n",
    "  \n",
    "  console.log(spaceship)"
   ]
  },
  {
   "cell_type": "markdown",
   "metadata": {},
   "source": [
    "## Looping Through Object"
   ]
  },
  {
   "cell_type": "code",
   "execution_count": null,
   "metadata": {},
   "outputs": [],
   "source": [
    "spaceship = {\n",
    "    crew: {\n",
    "    captain: { \n",
    "        name: 'Lily', \n",
    "        degree: 'Computer Engineering', \n",
    "        cheerTeam() { console.log('You got this!') } \n",
    "        },\n",
    "    'chief officer': { \n",
    "        name: 'Dan', \n",
    "        degree: 'Aerospace Engineering', \n",
    "        agree() { console.log('I agree, captain!') } \n",
    "        },\n",
    "    medic: { \n",
    "        name: 'Clementine', \n",
    "        degree: 'Physics', \n",
    "        announce() { console.log(`Jets on!`) } },\n",
    "    translator: {\n",
    "        name: 'Shauna', \n",
    "        degree: 'Conservation Science', \n",
    "        powerFuel() { console.log('The tank is full!') } \n",
    "        }\n",
    "    }\n",
    "}; \n",
    "\n",
    "for (let crewMember in spaceship.crew) {\n",
    "  console.log(`${crewMember}: ${spaceship.crew[crewMember].name}`)\n",
    "}\n",
    "\n",
    "for (let crewMember in spaceship.crew) {\n",
    "    console.log(`${spaceship.crew[crewMember].name}: ${spaceship.crew[crewMember].degree}`)\n",
    "  }"
   ]
  },
  {
   "cell_type": "markdown",
   "metadata": {},
   "source": [
    "## Communicating Object Restrictions"
   ]
  },
  {
   "cell_type": "code",
   "execution_count": null,
   "metadata": {},
   "outputs": [],
   "source": [
    "let robot = {\n",
    "    model : '1E78V2',\n",
    "    energyLevel : 100,\n",
    "    provideInfo() {\n",
    "      return `I am ${this.model} and my current energy level is ${this.energyLevel}.`\n",
    "    }\n",
    "  };\n",
    "  \n",
    "  console.log(robot.provideInfo())\n",
    "\n",
    "  // the funky things about interacting with objects\n",
    "\n",
    "  const Roboto = {\n",
    "    _energyLevel: 100,\n",
    "    recharge(){\n",
    "      this._energyLevel += 30;\n",
    "      console.log(`Recharged! Energy is currently at ${this._energyLevel}%.`)\n",
    "    }\n",
    "  };\n",
    "  \n",
    "  Roboto._energyLevel = 'high'\n",
    "  Roboto.recharge()\n"
   ]
  },
  {
   "cell_type": "markdown",
   "metadata": {},
   "source": [
    "## Getter & Setter Methods"
   ]
  },
  {
   "cell_type": "code",
   "execution_count": null,
   "metadata": {},
   "outputs": [],
   "source": [
    "robot = {\n",
    "    _model: '1E78V2',\n",
    "    _energyLevel: 100,\n",
    "    get energyLevel() {\n",
    "      if (typeof this._energyLevel === 'number') {\n",
    "        return `My current energy level is ${this._energyLevel}`\n",
    "      } else {\n",
    "        return 'System malfunction: cannot retrieve energy level'\n",
    "      }\n",
    "    }\n",
    "  };\n",
    "    \n",
    "  console.log(robot.energyLevel)\n",
    "    \n",
    "  // more getters and setters\n",
    "  \n",
    "  robot = {\n",
    "    _model: '1E78V2',\n",
    "    _energyLevel: 100,\n",
    "    _numOfSensors: 15,\n",
    "    get numOfSensors(){\n",
    "      if(typeof this._numOfSensors === 'number'){\n",
    "        return this._numOfSensors;\n",
    "      } else {\n",
    "        return 'Sensors are currently down.'\n",
    "      }\n",
    "    },\n",
    "    set numOfSensors(num){\n",
    "      if (typeof num === 'number' && num >= 0) {\n",
    "        this._numOfSensors = num\n",
    "      } else {\n",
    "        console.log('Pass in a number that is greater than or equal to 0')\n",
    "      }\n",
    "    }\n",
    "  };\n",
    "    \n",
    "  robot.numOfSensors = 100\n",
    "  console.log(robot.numOfSensors)"
   ]
  },
  {
   "cell_type": "markdown",
   "metadata": {},
   "source": [
    "## Object Factory"
   ]
  },
  {
   "cell_type": "code",
   "execution_count": null,
   "metadata": {},
   "outputs": [],
   "source": [
    "// creating an object factory\n",
    "let robotFactory = (model, mobile) => {\n",
    "    return {\n",
    "      model: model,\n",
    "      mobile: mobile,\n",
    "      beep(){\n",
    "        console.log('Beep Boop')\n",
    "      }\n",
    "    }\n",
    "  }\n",
    "    \n",
    "  const tinCan = robotFactory('P-500', true)\n",
    "  tinCan.beep()\n",
    "    \n",
    "  // creating objects with property value shorthand\n",
    "  robotFactory = (model, mobile) => {\n",
    "      return {\n",
    "        model,  // shorthand for model: model\n",
    "        mobile, // shorthand for mobile: mobile\n",
    "        beep() {\n",
    "          console.log('Beep Boop');\n",
    "        }\n",
    "      }\n",
    "    }\n",
    "    \n",
    "  // To check that the property value shorthand technique worked:\n",
    "  const newRobot = robotFactory('P-501', false)\n",
    "  console.log(newRobot.model)\n",
    "  console.log(newRobot.mobile)"
   ]
  },
  {
   "cell_type": "markdown",
   "metadata": {},
   "source": [
    "## Destructured Assignment"
   ]
  },
  {
   "cell_type": "code",
   "execution_count": null,
   "metadata": {},
   "outputs": [],
   "source": [
    "// using destructured assignment\n",
    "robot = {\n",
    "    model: '1E78V2',\n",
    "    energyLevel: 100,\n",
    "    functionality: {\n",
    "      beep() {\n",
    "        console.log('Beep Boop');\n",
    "      },\n",
    "      fireLaser() {\n",
    "        console.log('Pew Pew');\n",
    "      },\n",
    "    }\n",
    "  };\n",
    "    \n",
    "  const {functionality} = robot\n",
    "  functionality.beep()"
   ]
  },
  {
   "cell_type": "markdown",
   "metadata": {},
   "source": [
    "## Built-in Object Methods"
   ]
  },
  {
   "cell_type": "code",
   "execution_count": null,
   "metadata": {},
   "outputs": [],
   "source": [
    "// using built in Object methods\n",
    "robot = {\n",
    "\tmodel: 'SAL-1000',\n",
    "  mobile: true,\n",
    "  sentient: false,\n",
    "  armor: 'Steel-plated',\n",
    "  energyLevel: 75\n",
    "};\n",
    "\n",
    "// What is missing in the following method call?\n",
    "const robotKeys = Object.keys(robot);\n",
    "\n",
    "console.log(robotKeys);\n",
    "\n",
    "// Declare robotEntries below this line:\n",
    "\n",
    "const robotEntries = Object.entries(robot);\n",
    "console.log(robotEntries);\n",
    "\n",
    "// Declare newerRobot below this line:\n",
    "\n",
    "const newerRobot = Object.assign({laserBlaster: true, voiceRecognition: true}, robot);\n",
    "console.log(newerRobot);"
   ]
  }
 ],
 "metadata": {
  "kernelspec": {
   "display_name": "Deno",
   "language": "typescript",
   "name": "deno"
  },
  "language_info": {
   "file_extension": ".ts",
   "mimetype": "text/x.typescript",
   "name": "typescript",
   "nb_converter": "script",
   "pygments_lexer": "typescript",
   "version": "5.3.3"
  }
 },
 "nbformat": 4,
 "nbformat_minor": 2
}
