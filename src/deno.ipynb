{
 "cells": [
  {
   "cell_type": "markdown",
   "metadata": {},
   "source": [
    "# deno time! 🦕\n",
    "Lo and behold, deno kernal is working, and we can say bonjour! 👋"
   ]
  },
  {
   "cell_type": "code",
   "execution_count": null,
   "metadata": {},
   "outputs": [],
   "source": [
    "console.log('Bonjour World!')"
   ]
  },
  {
   "cell_type": "markdown",
   "metadata": {},
   "source": [
    "# Primitive Data Types\n",
    "Data types are the classifications we give to the different kinds of data that we use in programming. In JavaScript, there are eight fundamental data types:\n",
    "\n",
    "- **Number:** Any number, including numbers with decimals: 4, 8, 1516, 23.42.\n",
    "- **BigInt:** Any number, greater than 253-1 or less than -(253-1), with n appended to the number: 1234567890123456n.\n",
    "- **String:** Any grouping of characters on your keyboard (letters, numbers, spaces, symbols, etc.) surrounded by single quotes: ' ... ' or double quotes \" ... \", though we prefer single quotes. Some people like to think of string as a fancy word for text.\n",
    "- **Boolean:** This data type only has two possible values— either true or false (without quotes). It’s helpful to think of booleans as on and off switches or as the answers to a “yes” or “no” question.\n",
    "- **Null:** This data type represents the intentional absence of a value, and is represented by the keyword null (without quotes).\n",
    "- **Undefined:** This data type is denoted by the keyword undefined (without quotes). It also represents the absence of a value though it has a different use than null. undefined means that a given value does not exist.\n",
    "- **Symbol:** A newer feature to the language, symbols are unique identifiers, useful in more complex coding. No need to worry about these for now.\n",
    "- **Object:** Collections of related data."
   ]
  },
  {
   "cell_type": "code",
   "execution_count": null,
   "metadata": {},
   "outputs": [],
   "source": [
    "// logging data\n",
    "console.log('JavaScript')\n",
    "console.log(2011)\n",
    "console.log('Woohoo! I love to code! #codecademy')\n",
    "console.log(20.49)\n",
    "\n",
    "// Basic arithmetic\n",
    "console.log(3.5 + 27)\n",
    "console.log(2024-1969)\n",
    "console.log(65/240)\n",
    "console.log(0.2708*100)\n",
    "\n",
    "// string concatenation\n",
    "console.log('Hello' + ' ' + 'World')"
   ]
  },
  {
   "cell_type": "markdown",
   "metadata": {},
   "source": [
    "# Properties"
   ]
  },
  {
   "cell_type": "code",
   "execution_count": null,
   "metadata": {},
   "outputs": [],
   "source": [
    "// Access string length property\n",
    "console.log('Teaching the world how to code'.length)"
   ]
  },
  {
   "cell_type": "markdown",
   "metadata": {},
   "source": [
    "# Methods"
   ]
  },
  {
   "cell_type": "code",
   "execution_count": null,
   "metadata": {},
   "outputs": [],
   "source": [
    "// Use .toUpperCase() to log 'Codecademy' in all uppercase letters\n",
    "console.log('Codecademy'.toUpperCase());\n",
    "\n",
    "// Use a string method to log the following string without whitespace at the beginning and end of it.\n",
    "console.log('    Remove whitespace   '.trim());"
   ]
  },
  {
   "cell_type": "markdown",
   "metadata": {},
   "source": [
    "# Built-in Objects"
   ]
  },
  {
   "cell_type": "code",
   "execution_count": null,
   "metadata": {},
   "outputs": [],
   "source": [
    "console.log(Math.floor(Math.random() * 100))\n",
    "console.log(Math.ceil(43.8))\n",
    "console.log(Number.isInteger(2017))"
   ]
  },
  {
   "cell_type": "markdown",
   "metadata": {},
   "source": [
    "# Variables"
   ]
  },
  {
   "cell_type": "code",
   "execution_count": null,
   "metadata": {},
   "outputs": [],
   "source": [
    "var favoriteFood = 'pizza'\n",
    "var numOfSlices = 8\n",
    "\n",
    "console.log(favoriteFood)\n",
    "console.log(numOfSlices)\n",
    "\n",
    "let changeMe = true;\n",
    "changeMe = false;\n",
    "console.log(changeMe)"
   ]
  },
  {
   "cell_type": "markdown",
   "metadata": {},
   "source": [
    "# Mathematical Assignment Operators"
   ]
  },
  {
   "cell_type": "code",
   "execution_count": null,
   "metadata": {},
   "outputs": [],
   "source": [
    "// Use the mathematical assignments in the space below:\n",
    "let levelUp = 10;\n",
    "let powerLevel = 9001;\n",
    "let multiplyMe = 32;\n",
    "let quarterMe = 1152;\n",
    "\n",
    "levelUp += 5\n",
    "powerLevel -= 100\n",
    "multiplyMe *= 11\n",
    "quarterMe /= 4\n",
    "\n",
    "// These console.log() statements below will help you check the values of the variables.\n",
    "// You do not need to edit these statements. \n",
    "console.log('The value of levelUp:', levelUp); \n",
    "console.log('The value of powerLevel:', powerLevel); \n",
    "console.log('The value of multiplyMe:', multiplyMe); \n",
    "console.log('The value of quarterMe:', quarterMe);"
   ]
  },
  {
   "cell_type": "markdown",
   "metadata": {},
   "source": [
    "# Increment & Decrement Operators"
   ]
  },
  {
   "cell_type": "code",
   "execution_count": null,
   "metadata": {},
   "outputs": [],
   "source": [
    "let gainedDollar = 3;\n",
    "let lostDollar = 50;\n",
    "\n",
    "gainedDollar++;\n",
    "lostDollar--;"
   ]
  },
  {
   "cell_type": "markdown",
   "metadata": {},
   "source": [
    "# String Concatenation & Interpolation"
   ]
  },
  {
   "cell_type": "code",
   "execution_count": null,
   "metadata": {},
   "outputs": [],
   "source": [
    "const favoriteAnimal = 'piggy';\n",
    "console.log('My favorite animal: ' + favoriteAnimal)\n",
    "const myName = 'Jose';\n",
    "const myCity = 'Miami';\n",
    "console.log(`My name is ${myName}. My favorite city is ${myCity}.`)"
   ]
  },
  {
   "cell_type": "markdown",
   "metadata": {},
   "source": [
    "# Typeof Operator & Typing"
   ]
  },
  {
   "cell_type": "code",
   "execution_count": 1,
   "metadata": {},
   "outputs": [
    {
     "name": "stdout",
     "output_type": "stream",
     "text": [
      "string\n",
      "number\n",
      "string\n",
      "number\n"
     ]
    }
   ],
   "source": [
    "let variable: string | number; // variable can be either string or number\n",
    "variable = \"hello\"; // variable is of type string\n",
    "console.log(typeof variable);\n",
    "variable = 1; // variable is of type number\n",
    "console.log(typeof variable);\n",
    "\n",
    "let newVariable: any = 'Playing around with typeof.';\n",
    "console.log(typeof newVariable)\n",
    "\n",
    "newVariable = 1\n",
    "console.log(typeof newVariable)"
   ]
  }
 ],
 "metadata": {
  "kernelspec": {
   "display_name": "Deno",
   "language": "typescript",
   "name": "deno"
  },
  "language_info": {
   "file_extension": ".ts",
   "mimetype": "text/x.typescript",
   "name": "typescript",
   "nb_converter": "script",
   "pygments_lexer": "typescript",
   "version": "5.3.3"
  }
 },
 "nbformat": 4,
 "nbformat_minor": 2
}
